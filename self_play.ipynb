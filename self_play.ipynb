{
 "cells": [
  {
   "cell_type": "markdown",
   "id": "2d4159ae",
   "metadata": {},
   "source": [
    "# Checkers AI training through self play"
   ]
  },
  {
   "cell_type": "markdown",
   "id": "640e8222",
   "metadata": {},
   "source": [
    "This notebook uses a checkers implementation from the pettingzoo package. \n",
    "\n",
    "Monte carlo tree search and self-play training is based on https://web.stanford.edu/~surag/posts/alphazero.html"
   ]
  },
  {
   "cell_type": "code",
   "execution_count": 1,
   "id": "fdc28385",
   "metadata": {},
   "outputs": [],
   "source": [
    "from pettingzoo.utils.env import AECEnv\n",
    "from pettingzoo.classic import checkers_v3\n",
    "from copy import deepcopy\n",
    "import numpy as np"
   ]
  },
  {
   "cell_type": "markdown",
   "id": "dafa1d70",
   "metadata": {},
   "source": [
    "## Utils\n",
    "Let's start by defining some util classes used later in the code"
   ]
  },
  {
   "cell_type": "code",
   "execution_count": 2,
   "id": "d50f5b9b",
   "metadata": {},
   "outputs": [],
   "source": [
    "# Game env wrapper for MCTS search\n",
    "class State:\n",
    "\n",
    "    def __init__(self, env : AECEnv):\n",
    "        self.env = env\n",
    "\n",
    "    def gameEnded(self):\n",
    "        _, _, done, _ = self.env.last()\n",
    "        return done\n",
    "\n",
    "    def gameReward(self):\n",
    "        _, reward, _, _ = self.env.last()\n",
    "        return reward\n",
    "\n",
    "    def getActionMask(self):\n",
    "        observation, _, _, _ = self.env.last()\n",
    "        return observation[\"action_mask\"]\n",
    "\n",
    "    def getValidActions(self):\n",
    "        return np.flatnonzero(self.getActionMask())\n",
    "\n",
    "    def nextState(self, action):\n",
    "        new_env = deepcopy(self.env)\n",
    "        new_env.step(action)\n",
    "        player_changed = self.env.agent_selection != new_env.agent_selection\n",
    "        return State(new_env), player_changed\n",
    "\n",
    "    def getObservation(self):\n",
    "        return self.env.observe(self.currentAgent())[\"observation\"]\n",
    "\n",
    "    def currentAgent(self):\n",
    "        return self.env.agent_selection\n",
    "\n",
    "    def show(self, wait=False):\n",
    "        self.env.render()\n",
    "        if wait:\n",
    "            input(\"press any key to continue\")\n",
    "\n",
    "\n",
    "    def __eq__(self, x):\n",
    "        if not isinstance(x, State):\n",
    "            return False\n",
    "        # this should be enough\n",
    "        same_agent = self.env.agent_selection == x.env.agent_selection\n",
    "        observations_match = (self.getObservation() == x.getObservation()).all()\n",
    "        return same_agent and observations_match\n",
    "\n",
    "    def toStr(self):\n",
    "        o = self.getObservation()\n",
    "        # reduce dimensions from 3 to 2\n",
    "        o = np.sum(o, axis = 2) * (np.argmax(o, axis = 2) + 1)\n",
    "        return str(o)\n",
    "\n",
    "    def __hash__(self):\n",
    "        return hash(self.toStr())\n"
   ]
  },
  {
   "cell_type": "code",
   "execution_count": 3,
   "id": "ac4d7051",
   "metadata": {},
   "outputs": [],
   "source": [
    "class TrainingExample:\n",
    "\n",
    "    def __init__(self, state : State, pi, reward):\n",
    "        self.state = state\n",
    "        self.pi = pi\n",
    "        self.reward = reward\n"
   ]
  },
  {
   "cell_type": "markdown",
   "id": "4ca0a680",
   "metadata": {},
   "source": [
    "## The neural net"
   ]
  },
  {
   "cell_type": "code",
   "execution_count": 4,
   "id": "38bf156c",
   "metadata": {},
   "outputs": [
    {
     "name": "stderr",
     "output_type": "stream",
     "text": [
      "2021-12-11 22:21:33.854213: W tensorflow/stream_executor/platform/default/dso_loader.cc:64] Could not load dynamic library 'libcudart.so.11.0'; dlerror: libcudart.so.11.0: cannot open shared object file: No such file or directory\n",
      "2021-12-11 22:21:33.854233: I tensorflow/stream_executor/cuda/cudart_stub.cc:29] Ignore above cudart dlerror if you do not have a GPU set up on your machine.\n"
     ]
    }
   ],
   "source": [
    "from typing import List\n",
    "from random import shuffle\n",
    "from tensorflow.keras import layers, Model, Input, metrics\n",
    "\n",
    "class NNet:\n",
    "\n",
    "    def __init__(self, action_size):\n",
    "        x = Input(shape=(8,8,4))\n",
    "        y = layers.Conv2D(16, 3, activation='relu')(x)\n",
    "        y = layers.Conv2D(16, 3, activation='relu')(y)\n",
    "        y = layers.Conv2D(16, 3, strides=2, activation='relu')(y)\n",
    "        y = layers.Flatten()(y)\n",
    "        y = layers.Dropout(0.5)(y)\n",
    "        p = layers.Dense(action_size, activation='softmax', name=\"pi\")(y)\n",
    "        v = layers.Dense(1, name=\"v\")(y)\n",
    "        self.nnet = Model(x, [p,v])\n",
    "        print(self.nnet.summary())\n",
    "        self.nnet.compile(\n",
    "                optimizer='rmsprop',\n",
    "                loss=[\"categorical_crossentropy\",\"mean_squared_error\"],\n",
    "                metrics=[metrics.MeanSquaredError(), metrics.CategoricalCrossentropy()]\n",
    "        )\n",
    "\n",
    "    def predict(self, state : State):\n",
    "        x = state.getObservation()\n",
    "        x = np.expand_dims(x,0)\n",
    "        p, v = self.nnet.predict(x, batch_size=1)\n",
    "\n",
    "        p = p[0]\n",
    "        m = state.getActionMask()\n",
    "        p *= m\n",
    "        # nnet zeroed all possible actions\n",
    "        if np.sum(p) == 0:\n",
    "            p = m / np.sum(m)\n",
    "        else:\n",
    "            p = p / np.sum(p) # renormalize\n",
    "        return p, v[0][0]\n",
    "\n",
    "    @staticmethod\n",
    "    def _prepare_examples(examples: List[TrainingExample]):\n",
    "        X = []\n",
    "        pi = []\n",
    "        v = []\n",
    "        shuffle(examples)\n",
    "        for e in examples:\n",
    "            X.append(e.state.getObservation())\n",
    "            pi.append(e.pi)\n",
    "            v.append(e.reward)\n",
    "        \n",
    "        return np.array(X), [np.array(pi), np.array(v)]\n",
    "     \n",
    "    def train(self, examples):\n",
    "        X, y = self._prepare_examples(examples)\n",
    "        self.nnet.fit(X, y, batch_size=32)\n",
    "        return self"
   ]
  },
  {
   "cell_type": "markdown",
   "id": "2ae70eee",
   "metadata": {},
   "source": [
    "Check if it works : create environment, wrap it in state, run nnet predict."
   ]
  },
  {
   "cell_type": "code",
   "execution_count": 5,
   "id": "d5bc3776",
   "metadata": {},
   "outputs": [
    {
     "name": "stdout",
     "output_type": "stream",
     "text": [
      "  M   M   M   M \n",
      "M   M   M   M   \n",
      "  M   M   M   M \n",
      "_   _   _   _   \n",
      "  _   _   _   _ \n",
      "m   m   m   m   \n",
      "  m   m   m   m \n",
      "m   m   m   m   \n"
     ]
    }
   ],
   "source": [
    "env = checkers_v3.env()\n",
    "env.reset()\n",
    "env.render()"
   ]
  },
  {
   "cell_type": "code",
   "execution_count": 6,
   "id": "4f6c2c13",
   "metadata": {},
   "outputs": [
    {
     "data": {
      "text/plain": [
       "(8, 8, 4)"
      ]
     },
     "execution_count": 6,
     "metadata": {},
     "output_type": "execute_result"
    }
   ],
   "source": [
    "state = State(env)\n",
    "state.getObservation().shape"
   ]
  },
  {
   "cell_type": "code",
   "execution_count": 7,
   "id": "e33101b9",
   "metadata": {},
   "outputs": [
    {
     "name": "stdout",
     "output_type": "stream",
     "text": [
      "Model: \"model\"\n",
      "__________________________________________________________________________________________________\n",
      " Layer (type)                   Output Shape         Param #     Connected to                     \n",
      "==================================================================================================\n",
      " input_1 (InputLayer)           [(None, 8, 8, 4)]    0           []                               \n",
      "                                                                                                  \n",
      " conv2d (Conv2D)                (None, 6, 6, 16)     592         ['input_1[0][0]']                \n",
      "                                                                                                  \n",
      " conv2d_1 (Conv2D)              (None, 4, 4, 16)     2320        ['conv2d[0][0]']                 \n",
      "                                                                                                  \n",
      " conv2d_2 (Conv2D)              (None, 1, 1, 16)     2320        ['conv2d_1[0][0]']               \n",
      "                                                                                                  \n",
      " flatten (Flatten)              (None, 16)           0           ['conv2d_2[0][0]']               \n",
      "                                                                                                  \n",
      " dropout (Dropout)              (None, 16)           0           ['flatten[0][0]']                \n",
      "                                                                                                  \n",
      " pi (Dense)                     (None, 256)          4352        ['dropout[0][0]']                \n",
      "                                                                                                  \n",
      " v (Dense)                      (None, 1)            17          ['dropout[0][0]']                \n",
      "                                                                                                  \n",
      "==================================================================================================\n",
      "Total params: 9,601\n",
      "Trainable params: 9,601\n",
      "Non-trainable params: 0\n",
      "__________________________________________________________________________________________________\n",
      "None\n"
     ]
    },
    {
     "name": "stderr",
     "output_type": "stream",
     "text": [
      "2021-12-11 22:21:35.102637: W tensorflow/stream_executor/platform/default/dso_loader.cc:64] Could not load dynamic library 'libcuda.so.1'; dlerror: libcuda.so.1: cannot open shared object file: No such file or directory\n",
      "2021-12-11 22:21:35.102677: W tensorflow/stream_executor/cuda/cuda_driver.cc:269] failed call to cuInit: UNKNOWN ERROR (303)\n",
      "2021-12-11 22:21:35.102705: I tensorflow/stream_executor/cuda/cuda_diagnostics.cc:156] kernel driver does not appear to be running on this host (TARS): /proc/driver/nvidia/version does not exist\n",
      "2021-12-11 22:21:35.103082: I tensorflow/core/platform/cpu_feature_guard.cc:151] This TensorFlow binary is optimized with oneAPI Deep Neural Network Library (oneDNN) to use the following CPU instructions in performance-critical operations:  AVX2 FMA\n",
      "To enable them in other operations, rebuild TensorFlow with the appropriate compiler flags.\n"
     ]
    }
   ],
   "source": [
    "nnet = NNet(256)"
   ]
  },
  {
   "cell_type": "code",
   "execution_count": 8,
   "id": "a5391873",
   "metadata": {},
   "outputs": [
    {
     "name": "stdout",
     "output_type": "stream",
     "text": [
      "(256,)\n",
      "-0.02463194\n"
     ]
    }
   ],
   "source": [
    "policy, value = nnet.predict(state)\n",
    "print(policy.shape)\n",
    "print(value)"
   ]
  },
  {
   "cell_type": "markdown",
   "id": "d28eb3fe",
   "metadata": {},
   "source": [
    "## MCTS"
   ]
  },
  {
   "cell_type": "code",
   "execution_count": 9,
   "id": "0bf98423",
   "metadata": {},
   "outputs": [],
   "source": [
    "class MCTS:\n",
    "\n",
    "    def __init__(self, nnet):\n",
    "        self.nnet = nnet\n",
    "        # number of times given state and action has been tested\n",
    "        self.N = {}\n",
    "        # policy in each state\n",
    "        self.P = {}\n",
    "        # Q value of each state\n",
    "        self.Q = {}\n",
    "        # predicted Q value of each state\n",
    "        self.predicted_v = {}\n",
    "        # set of visited states states \n",
    "        self.visited = set()\n",
    "        # some paramter\n",
    "        self.c_puct = 1.0\n",
    "\n",
    "    def search(self, s : State, max_depth = 10):\n",
    "        # print(\"Search : \")\n",
    "        # print(s.toStr())\n",
    "        if s.gameEnded(): return s.gameReward()\n",
    "\n",
    "        if s not in self.visited:\n",
    "            self.visited.add(s)\n",
    "            pi, v = self.nnet.predict(s)\n",
    "            self.predicted_v[s] = v\n",
    "            self.P[s] = pi\n",
    "            self.N[s] = np.zeros(len(pi))\n",
    "            self.Q[s] = np.zeros(len(pi))\n",
    "            return v\n",
    "\n",
    "        if max_depth == 0:\n",
    "            print(f\"max depth reached!, a heuristic value of this state {self.predicted_v[s]}\")\n",
    "            return self.predicted_v[s]\n",
    "      \n",
    "        max_u, best_a = -np.inf, None\n",
    "        for a in s.getValidActions():\n",
    "            u = self.Q[s][a] + self.c_puct * self.P[s][a] * np.sqrt(np.sum(self.N[s])) / (1 + self.N[s][a])\n",
    "            if u > max_u:\n",
    "                max_u = u\n",
    "                best_a = a\n",
    "        a = best_a\n",
    "        \n",
    "        sp, player_changed = s.nextState(a)\n",
    "        v = self.search(sp, max_depth - 1)\n",
    "        if player_changed:\n",
    "            v = -v\n",
    "\n",
    "        self.Q[s][a] = (self.N[s][a] * self.Q[s][a] + v) / (self.N[s][a] + 1)\n",
    "        self.N[s][a] += 1\n",
    "        return v\n",
    "\n",
    "    # improved policy\n",
    "    def pi(self, s : State):\n",
    "        summed_n = np.sum(self.N[s])\n",
    "        if summed_n == 0:\n",
    "            return self.P[s]\n",
    "\n",
    "        return self.N[s] / summed_n\n"
   ]
  },
  {
   "cell_type": "code",
   "execution_count": 10,
   "id": "fe2f3915",
   "metadata": {},
   "outputs": [],
   "source": [
    "mcts = MCTS(nnet)"
   ]
  },
  {
   "cell_type": "code",
   "execution_count": 11,
   "id": "83b8a9f7",
   "metadata": {},
   "outputs": [
    {
     "data": {
      "text/plain": [
       "-0.02463194"
      ]
     },
     "execution_count": 11,
     "metadata": {},
     "output_type": "execute_result"
    }
   ],
   "source": [
    "mcts.search(state)"
   ]
  },
  {
   "cell_type": "code",
   "execution_count": 12,
   "id": "3a75fd99",
   "metadata": {},
   "outputs": [
    {
     "data": {
      "text/plain": [
       "(256,)"
      ]
     },
     "execution_count": 12,
     "metadata": {},
     "output_type": "execute_result"
    }
   ],
   "source": [
    "mcts.pi(state).shape"
   ]
  },
  {
   "cell_type": "code",
   "execution_count": 13,
   "id": "4594b958",
   "metadata": {},
   "outputs": [],
   "source": [
    "def pit(new_nnet : NNet, nnet : NNet, games_played = 10):\n",
    "    new_nnet_tag = \"player_0\"\n",
    "    nnet_tag = \"player_1\"\n",
    "    wins = 0\n",
    "    ties = 0\n",
    "\n",
    "    for g in range(games_played):\n",
    "        env = checkers_v3.env()\n",
    "        env.reset()\n",
    "        s = State(env)\n",
    "        # swap players before each round\n",
    "        new_nnet_tag, nnet_tag = nnet_tag, new_nnet_tag  \n",
    "        agents = {new_nnet_tag : new_nnet, nnet_tag : nnet}\n",
    "\n",
    "        while not s.gameEnded():\n",
    "            agent = agents[s.currentAgent()]\n",
    "            p, _ = agent.predict(s)\n",
    "            action = np.random.choice(len(p), p=p)\n",
    "            s.env.step(action)\n",
    "\n",
    "        if s.gameReward() == 0:\n",
    "            ties += 1\n",
    "       \n",
    "        if s.gameReward() == 1 and s.currentAgent() == new_nnet_tag:\n",
    "            wins += 1\n",
    "    \n",
    "        if s.gameReward() == -1 and s.currentAgent() != new_nnet_tag:\n",
    "            wins += 1\n",
    "        \n",
    "            \n",
    "    frac_win = wins / (games_played - ties)\n",
    "    return frac_win\n",
    "\n",
    "# training\n",
    "def policyIterSP(env : AECEnv, num_iters = 1, num_eps = 1, frac_win_thresh = 0.55):\n",
    "    # hard coded action space size\n",
    "    nnet = NNet(256)\n",
    "    examples = []\n",
    "    for i in range(num_iters):\n",
    "        for e in range(num_eps):\n",
    "            examples += executeSelfPlayEpisode(env, nnet)           # collect examples from this game\n",
    "            print(\"episode done\")\n",
    "        new_nnet = nnet.train(examples)\n",
    "        frac_win = pit(new_nnet, nnet)                      # compare new net with previous net\n",
    "        print(\"frac_win\", frac_win)\n",
    "        if frac_win > frac_win_thresh:\n",
    "            print(\"new net is better!\")\n",
    "            nnet = new_nnet                                 # replace with new net\n",
    "    return nnet\n",
    "\n",
    "def executeSelfPlayEpisode(env : AECEnv, nnet, num_mcts_sims = 2):\n",
    "    examples = []\n",
    "    env.reset()\n",
    "    s = State(env)\n",
    "    # s.show(wait = False)\n",
    "    mcts = MCTS(nnet)                                           # initialise search tree\n",
    "\n",
    "    while True:\n",
    "        for _ in range(num_mcts_sims):\n",
    "            mcts.search(s)\n",
    "        pi = mcts.pi(s)\n",
    "        examples.append(TrainingExample(deepcopy(s), pi, None))              # rewards can not be determined yet\n",
    "        a = np.random.choice(len(pi), p=pi)    # sample action from improved policy\n",
    "        s, _ = s.nextState(a)\n",
    "        # s.show(wait = False)\n",
    "        if s.gameEnded():\n",
    "            examples = assignRewards(examples, s.gameReward(), s.currentAgent())\n",
    "            return examples\n",
    "\n",
    "def assignRewards(examples, reward, player_w_reward):\n",
    "    for e in examples:\n",
    "        e.reward = reward if e.state.currentAgent() == player_w_reward else -reward\n",
    "\n",
    "    return examples"
   ]
  },
  {
   "cell_type": "markdown",
   "id": "a7b4518b",
   "metadata": {},
   "source": [
    "## Run training!"
   ]
  },
  {
   "cell_type": "code",
   "execution_count": 14,
   "id": "72c447cf",
   "metadata": {},
   "outputs": [
    {
     "name": "stdout",
     "output_type": "stream",
     "text": [
      "Model: \"model_1\"\n",
      "__________________________________________________________________________________________________\n",
      " Layer (type)                   Output Shape         Param #     Connected to                     \n",
      "==================================================================================================\n",
      " input_2 (InputLayer)           [(None, 8, 8, 4)]    0           []                               \n",
      "                                                                                                  \n",
      " conv2d_3 (Conv2D)              (None, 6, 6, 16)     592         ['input_2[0][0]']                \n",
      "                                                                                                  \n",
      " conv2d_4 (Conv2D)              (None, 4, 4, 16)     2320        ['conv2d_3[0][0]']               \n",
      "                                                                                                  \n",
      " conv2d_5 (Conv2D)              (None, 1, 1, 16)     2320        ['conv2d_4[0][0]']               \n",
      "                                                                                                  \n",
      " flatten_1 (Flatten)            (None, 16)           0           ['conv2d_5[0][0]']               \n",
      "                                                                                                  \n",
      " dropout_1 (Dropout)            (None, 16)           0           ['flatten_1[0][0]']              \n",
      "                                                                                                  \n",
      " pi (Dense)                     (None, 256)          4352        ['dropout_1[0][0]']              \n",
      "                                                                                                  \n",
      " v (Dense)                      (None, 1)            17          ['dropout_1[0][0]']              \n",
      "                                                                                                  \n",
      "==================================================================================================\n",
      "Total params: 9,601\n",
      "Trainable params: 9,601\n",
      "Non-trainable params: 0\n",
      "__________________________________________________________________________________________________\n",
      "None\n",
      "episode done\n",
      "2/2 [==============================] - 1s 2ms/step - loss: 6.5426 - pi_loss: 5.5408 - v_loss: 1.0018 - pi_mean_squared_error: 0.0022 - pi_categorical_crossentropy: 5.5408 - v_mean_squared_error: 1.0018 - v_categorical_crossentropy: nan\n",
      "frac_win 0.5\n"
     ]
    }
   ],
   "source": [
    "env = checkers_v3.env()\n",
    "nnet = policyIterSP(env)"
   ]
  }
 ],
 "metadata": {
  "kernelspec": {
   "display_name": "checkers",
   "language": "python",
   "name": "checkers"
  },
  "language_info": {
   "codemirror_mode": {
    "name": "ipython",
    "version": 3
   },
   "file_extension": ".py",
   "mimetype": "text/x-python",
   "name": "python",
   "nbconvert_exporter": "python",
   "pygments_lexer": "ipython3",
   "version": "3.8.10"
  }
 },
 "nbformat": 4,
 "nbformat_minor": 5
}
