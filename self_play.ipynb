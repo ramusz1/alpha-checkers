{
 "cells": [
  {
   "cell_type": "markdown",
   "id": "2d4159ae",
   "metadata": {},
   "source": [
    "# Checkers AI training through self play"
   ]
  },
  {
   "cell_type": "markdown",
   "id": "640e8222",
   "metadata": {},
   "source": [
    "This notebook uses a checkers implementation from the pettingzoo package. \n",
    "\n",
    "Monte carlo tree search and self-play training is based on https://web.stanford.edu/~surag/posts/alphazero.html"
   ]
  },
  {
   "cell_type": "code",
   "execution_count": 34,
   "id": "fdc28385",
   "metadata": {},
   "outputs": [],
   "source": [
    "from pettingzoo.utils.env import AECEnv\n",
    "from pettingzoo.classic import checkers_v3\n",
    "from copy import deepcopy\n",
    "import numpy as np"
   ]
  },
  {
   "cell_type": "markdown",
   "id": "dafa1d70",
   "metadata": {},
   "source": [
    "## Utils\n",
    "Let's start by defining some util classes used later in the code"
   ]
  },
  {
   "cell_type": "code",
   "execution_count": 35,
   "id": "d50f5b9b",
   "metadata": {},
   "outputs": [],
   "source": [
    "# Game env wrapper for MCTS search\n",
    "class State:\n",
    "\n",
    "    def __init__(self, env : AECEnv):\n",
    "        self.env = env\n",
    "\n",
    "    def gameEnded(self):\n",
    "        _, _, done, _ = self.env.last()\n",
    "        return done\n",
    "\n",
    "    def gameReward(self):\n",
    "        _, reward, _, _ = self.env.last()\n",
    "        return reward\n",
    "\n",
    "    def getActionMask(self):\n",
    "        observation, _, _, _ = self.env.last()\n",
    "        return observation[\"action_mask\"]\n",
    "\n",
    "    def getValidActions(self):\n",
    "        return np.flatnonzero(self.getActionMask())\n",
    "\n",
    "    def nextState(self, action):\n",
    "        new_env = deepcopy(self.env)\n",
    "        new_env.step(action)\n",
    "        player_changed = self.env.agent_selection != new_env.agent_selection\n",
    "        return State(new_env), player_changed\n",
    "\n",
    "    def getObservation(self):\n",
    "        return self.env.observe(self.currentAgent())[\"observation\"]\n",
    "\n",
    "    def currentAgent(self):\n",
    "        return self.env.agent_selection\n",
    "\n",
    "    def show(self, wait=False):\n",
    "        self.env.render()\n",
    "        if wait:\n",
    "            input(\"press any key to continue\")\n",
    "\n",
    "\n",
    "    def __eq__(self, x):\n",
    "        if not isinstance(x, State):\n",
    "            return False\n",
    "        # this should be enough\n",
    "        same_agent = self.env.agent_selection == x.env.agent_selection\n",
    "        observations_match = (self.getObservation() == x.getObservation()).all()\n",
    "        return same_agent and observations_match\n",
    "\n",
    "    def toStr(self):\n",
    "        o = self.getObservation()\n",
    "        # reduce dimensions from 3 to 2\n",
    "        o = np.sum(o, axis = 2) * (np.argmax(o, axis = 2) + 1)\n",
    "        return str(o)\n",
    "\n",
    "    def __hash__(self):\n",
    "        return hash(self.toStr())\n"
   ]
  },
  {
   "cell_type": "code",
   "execution_count": 36,
   "id": "ac4d7051",
   "metadata": {},
   "outputs": [],
   "source": [
    "class TrainingExample:\n",
    "\n",
    "    def __init__(self, state : State, pi, reward):\n",
    "        self.state = state\n",
    "        self.pi = pi\n",
    "        self.reward = reward\n"
   ]
  },
  {
   "cell_type": "markdown",
   "id": "4ca0a680",
   "metadata": {},
   "source": [
    "## The neural net"
   ]
  },
  {
   "cell_type": "code",
   "execution_count": 52,
   "id": "38bf156c",
   "metadata": {},
   "outputs": [],
   "source": [
    "from typing import List\n",
    "import random\n",
    "from tensorflow.keras import layers, Model, Input, metrics\n",
    "\n",
    "def applyActionMaskToPolicy(p, action_mask):\n",
    "    p_masked = p * action_mask\n",
    "    # policy zeroed all possible actions\n",
    "    if np.sum(p_masked) == 0:\n",
    "        p_masked = m\n",
    "\n",
    "    return p_masked / np.sum(p_masked) # renormalize\n",
    "\n",
    "\n",
    "class NNet:\n",
    "\n",
    "    def __init__(self, action_size):\n",
    "        x = Input(shape=(8,8,4))\n",
    "        y = layers.Conv2D(16, 3, activation='relu')(x)\n",
    "        y = layers.Conv2D(16, 3, activation='relu')(y)\n",
    "        y = layers.Conv2D(16, 3, strides=2, activation='relu')(y)\n",
    "        y = layers.Flatten()(y)\n",
    "        y = layers.Dropout(0.5)(y)\n",
    "        p = layers.Dense(action_size, activation='softmax', name=\"pi\")(y)\n",
    "        v = layers.Dense(1, name=\"v\")(y)\n",
    "        self.nnet = Model(x, [p,v])\n",
    "        print(self.nnet.summary())\n",
    "        self.nnet.compile(\n",
    "                optimizer='rmsprop',\n",
    "                loss=[\"categorical_crossentropy\",\"mean_squared_error\"],\n",
    "                metrics=[metrics.MeanSquaredError(), metrics.CategoricalCrossentropy()]\n",
    "        )\n",
    "\n",
    "    def predict(self, state : State):\n",
    "        x = state.getObservation()\n",
    "        x = np.expand_dims(x,0)\n",
    "        p, v = self.nnet.predict(x, batch_size=1)\n",
    "\n",
    "        p = p[0]\n",
    "        p = applyActionMaskToPolicy(p, state.getActionMask())\n",
    "        return p, v[0][0]\n",
    "\n",
    "    @staticmethod\n",
    "    def _prepare_examples(examples: List[TrainingExample]):\n",
    "        X = []\n",
    "        pi = []\n",
    "        v = []\n",
    "        random.shuffle(examples)\n",
    "        for e in examples:\n",
    "            X.append(e.state.getObservation())\n",
    "            pi.append(e.pi)\n",
    "            v.append(e.reward)\n",
    "        \n",
    "        return np.array(X), [np.array(pi), np.array(v)]\n",
    "     \n",
    "    def train(self, examples):\n",
    "        X, y = self._prepare_examples(examples)\n",
    "        self.nnet.fit(X, y, batch_size=32)\n",
    "        return self"
   ]
  },
  {
   "cell_type": "code",
   "execution_count": 38,
   "id": "86286e92",
   "metadata": {},
   "outputs": [],
   "source": [
    "class RandomPlayer:\n",
    "    \n",
    "    def predict(self, state : State):\n",
    "        p = np.random.uniform(256)\n",
    "        return applyActionMaskToPolicy(p, state.getActionMask()), 0\n"
   ]
  },
  {
   "cell_type": "markdown",
   "id": "2ae70eee",
   "metadata": {},
   "source": [
    "Check if it works : create environment, wrap it in state, run nnet predict."
   ]
  },
  {
   "cell_type": "code",
   "execution_count": 39,
   "id": "d5bc3776",
   "metadata": {},
   "outputs": [
    {
     "name": "stdout",
     "output_type": "stream",
     "text": [
      "  M   M   M   M \n",
      "M   M   M   M   \n",
      "  M   M   M   M \n",
      "_   _   _   _   \n",
      "  _   _   _   _ \n",
      "m   m   m   m   \n",
      "  m   m   m   m \n",
      "m   m   m   m   \n"
     ]
    }
   ],
   "source": [
    "env = checkers_v3.env()\n",
    "env.reset()\n",
    "env.render()"
   ]
  },
  {
   "cell_type": "code",
   "execution_count": 40,
   "id": "4f6c2c13",
   "metadata": {},
   "outputs": [
    {
     "data": {
      "text/plain": [
       "(8, 8, 4)"
      ]
     },
     "execution_count": 40,
     "metadata": {},
     "output_type": "execute_result"
    }
   ],
   "source": [
    "state = State(env)\n",
    "state.getObservation().shape"
   ]
  },
  {
   "cell_type": "code",
   "execution_count": 41,
   "id": "e33101b9",
   "metadata": {},
   "outputs": [
    {
     "name": "stdout",
     "output_type": "stream",
     "text": [
      "Model: \"model_3\"\n",
      "__________________________________________________________________________________________________\n",
      " Layer (type)                   Output Shape         Param #     Connected to                     \n",
      "==================================================================================================\n",
      " input_4 (InputLayer)           [(None, 8, 8, 4)]    0           []                               \n",
      "                                                                                                  \n",
      " conv2d_9 (Conv2D)              (None, 6, 6, 16)     592         ['input_4[0][0]']                \n",
      "                                                                                                  \n",
      " conv2d_10 (Conv2D)             (None, 4, 4, 16)     2320        ['conv2d_9[0][0]']               \n",
      "                                                                                                  \n",
      " conv2d_11 (Conv2D)             (None, 1, 1, 16)     2320        ['conv2d_10[0][0]']              \n",
      "                                                                                                  \n",
      " flatten_3 (Flatten)            (None, 16)           0           ['conv2d_11[0][0]']              \n",
      "                                                                                                  \n",
      " dropout_3 (Dropout)            (None, 16)           0           ['flatten_3[0][0]']              \n",
      "                                                                                                  \n",
      " pi (Dense)                     (None, 256)          4352        ['dropout_3[0][0]']              \n",
      "                                                                                                  \n",
      " v (Dense)                      (None, 1)            17          ['dropout_3[0][0]']              \n",
      "                                                                                                  \n",
      "==================================================================================================\n",
      "Total params: 9,601\n",
      "Trainable params: 9,601\n",
      "Non-trainable params: 0\n",
      "__________________________________________________________________________________________________\n",
      "None\n"
     ]
    }
   ],
   "source": [
    "nnet = NNet(256)"
   ]
  },
  {
   "cell_type": "code",
   "execution_count": 42,
   "id": "a5391873",
   "metadata": {},
   "outputs": [
    {
     "name": "stdout",
     "output_type": "stream",
     "text": [
      "(256,)\n",
      "-0.08509848\n"
     ]
    }
   ],
   "source": [
    "policy, value = nnet.predict(state)\n",
    "print(policy.shape)\n",
    "print(value)"
   ]
  },
  {
   "cell_type": "code",
   "execution_count": 43,
   "id": "80ea4bdc",
   "metadata": {},
   "outputs": [
    {
     "name": "stdout",
     "output_type": "stream",
     "text": [
      "(256,)\n",
      "0\n"
     ]
    }
   ],
   "source": [
    "policy, value = RandomPlayer().predict(state)\n",
    "print(policy.shape)\n",
    "print(value)"
   ]
  },
  {
   "cell_type": "markdown",
   "id": "d28eb3fe",
   "metadata": {},
   "source": [
    "## MCTS"
   ]
  },
  {
   "cell_type": "code",
   "execution_count": 44,
   "id": "0bf98423",
   "metadata": {},
   "outputs": [],
   "source": [
    "class MCTS:\n",
    "\n",
    "    def __init__(self, nnet, num_mcts_sims, max_depth = 10):\n",
    "        self.nnet = nnet\n",
    "        # number of times given state and action has been tested\n",
    "        self.N = {}\n",
    "        # policy in each state\n",
    "        self.P = {}\n",
    "        # Q value of each state\n",
    "        self.Q = {}\n",
    "        # predicted Q value of each state\n",
    "        self.predicted_v = {}\n",
    "        # set of visited states states \n",
    "        self.visited = set()\n",
    "        # some paramter\n",
    "        self.c_puct = 1.0\n",
    "        \n",
    "        self.num_mcts_sims = num_mcts_sims\n",
    "        self.max_depth = max_depth\n",
    "        \n",
    "    def search(self, s : State):\n",
    "        for _ in range(self.num_mcts_sims):\n",
    "            self._search(s, self.max_depth)\n",
    "\n",
    "    def _search(self, s : State, max_depth):\n",
    "        # print(\"Search : \")\n",
    "        # print(s.toStr())\n",
    "        if s.gameEnded(): return s.gameReward()\n",
    "\n",
    "        if s not in self.visited:\n",
    "            self.visited.add(s)\n",
    "            pi, v = self.nnet.predict(s)\n",
    "            self.predicted_v[s] = v\n",
    "            self.P[s] = pi\n",
    "            self.N[s] = np.zeros(len(pi))\n",
    "            self.Q[s] = np.zeros(len(pi))\n",
    "            return v\n",
    "\n",
    "        if max_depth == 0:\n",
    "            print(f\"max depth reached!, a heuristic value of this state {self.predicted_v[s]}\")\n",
    "            return self.predicted_v[s]\n",
    "      \n",
    "        max_u, best_a = -np.inf, None\n",
    "        for a in s.getValidActions():\n",
    "            u = self.Q[s][a] + self.c_puct * self.P[s][a] * np.sqrt(np.sum(self.N[s])) / (1 + self.N[s][a])\n",
    "            if u > max_u:\n",
    "                max_u = u\n",
    "                best_a = a\n",
    "        a = best_a\n",
    "        \n",
    "        sp, player_changed = s.nextState(a)\n",
    "        v = self._search(sp, max_depth - 1)\n",
    "        if player_changed:\n",
    "            v = -v\n",
    "\n",
    "        self.Q[s][a] = (self.N[s][a] * self.Q[s][a] + v) / (self.N[s][a] + 1)\n",
    "        self.N[s][a] += 1\n",
    "        return v\n",
    "\n",
    "    # improved policy\n",
    "    def pi(self, s : State):\n",
    "        summed_n = np.sum(self.N[s])\n",
    "        if summed_n == 0:\n",
    "            return self.P[s]\n",
    "\n",
    "        return self.N[s] / summed_n\n"
   ]
  },
  {
   "cell_type": "code",
   "execution_count": 30,
   "id": "fe2f3915",
   "metadata": {},
   "outputs": [],
   "source": [
    "mcts = MCTS(nnet, 2)"
   ]
  },
  {
   "cell_type": "code",
   "execution_count": 31,
   "id": "83b8a9f7",
   "metadata": {},
   "outputs": [],
   "source": [
    "mcts.search(state)"
   ]
  },
  {
   "cell_type": "code",
   "execution_count": 32,
   "id": "3a75fd99",
   "metadata": {},
   "outputs": [
    {
     "data": {
      "text/plain": [
       "(256,)"
      ]
     },
     "execution_count": 32,
     "metadata": {},
     "output_type": "execute_result"
    }
   ],
   "source": [
    "mcts.pi(state).shape"
   ]
  },
  {
   "cell_type": "code",
   "execution_count": 60,
   "id": "4594b958",
   "metadata": {},
   "outputs": [],
   "source": [
    "def pit(new_nnet : NNet, nnet : NNet, games_played = 10):\n",
    "    new_nnet_tag = \"player_0\"\n",
    "    nnet_tag = \"player_1\"\n",
    "    wins = 0\n",
    "    ties = 0\n",
    "\n",
    "    for g in range(games_played):\n",
    "        env = checkers_v3.env()\n",
    "        env.reset()\n",
    "        s = State(env)\n",
    "        # swap players before each round\n",
    "        new_nnet_tag, nnet_tag = nnet_tag, new_nnet_tag  \n",
    "        agents = {new_nnet_tag : new_nnet, nnet_tag : nnet}\n",
    "\n",
    "        while not s.gameEnded():\n",
    "            agent = agents[s.currentAgent()]\n",
    "            p, _ = agent.predict(s)\n",
    "            action = np.random.choice(len(p), p=p)\n",
    "            s.env.step(action)\n",
    "\n",
    "        if s.gameReward() == 0:\n",
    "            ties += 1\n",
    "       \n",
    "        if s.gameReward() == 1 and s.currentAgent() == new_nnet_tag:\n",
    "            wins += 1\n",
    "    \n",
    "        if s.gameReward() == -1 and s.currentAgent() != new_nnet_tag:\n",
    "            wins += 1\n",
    "        \n",
    "            \n",
    "    frac_win = wins / (games_played - ties)\n",
    "    return frac_win\n",
    "\n",
    "# training\n",
    "def policyIterSP(env : AECEnv, num_iters = 4, num_eps = 2, frac_win_thresh = 0.55):\n",
    "    # hard coded action space size\n",
    "    nnet = NNet(256)\n",
    "    frac_win = pit(nnet, RandomPlayer())                              # compare new net with a random player\n",
    "    print(\"frac_wins against a random player\", frac_win)\n",
    "    examples = []\n",
    "    for i in range(num_iters):\n",
    "        for e in range(num_eps):\n",
    "            examples += executeSelfPlayEpisode(env, nnet)             # collect examples from this game\n",
    "            print(\"episode done\")\n",
    "        new_nnet = nnet.train(examples)\n",
    "        frac_win = pit(new_nnet, nnet)                                # compare new net with previous net\n",
    "        print(\"frac_win\", frac_win)\n",
    "        if frac_win > frac_win_thresh:\n",
    "            print(\"new net is better!\")\n",
    "            nnet = new_nnet                                           # replace with new net\n",
    "            frac_win = pit(nnet, RandomPlayer())                      # compare new net with a random player\n",
    "            print(\"frac_wins against a random player\", frac_win)\n",
    "        examples = random.sample(examples, len(examples) // 2)\n",
    "    return nnet\n",
    "\n",
    "def executeSelfPlayEpisode(env : AECEnv, nnet, num_mcts_sims = 10):\n",
    "    examples = []\n",
    "    env.reset()\n",
    "    s = State(env)\n",
    "    # s.show(wait = False)\n",
    "    mcts = MCTS(nnet, num_mcts_sims)\n",
    "\n",
    "    while True:\n",
    "        mcts.search(s)\n",
    "        pi = mcts.pi(s)\n",
    "        examples.append(TrainingExample(deepcopy(s), pi, None))  # rewards can not be determined yet\n",
    "        a = np.random.choice(len(pi), p=pi)                      # sample action from improved policy\n",
    "        s, _ = s.nextState(a)\n",
    "        # s.show(wait = False)\n",
    "        if s.gameEnded():\n",
    "            examples = assignRewards(examples, s.gameReward(), s.currentAgent())\n",
    "            return examples\n",
    "\n",
    "def assignRewards(examples, reward, player_w_reward):\n",
    "    for e in examples:\n",
    "        e.reward = reward if e.state.currentAgent() == player_w_reward else -reward\n",
    "\n",
    "    return examples"
   ]
  },
  {
   "cell_type": "markdown",
   "id": "a7b4518b",
   "metadata": {},
   "source": [
    "## Run training!"
   ]
  },
  {
   "cell_type": "code",
   "execution_count": 61,
   "id": "72c447cf",
   "metadata": {},
   "outputs": [
    {
     "name": "stdout",
     "output_type": "stream",
     "text": [
      "Model: \"model_9\"\n",
      "__________________________________________________________________________________________________\n",
      " Layer (type)                   Output Shape         Param #     Connected to                     \n",
      "==================================================================================================\n",
      " input_10 (InputLayer)          [(None, 8, 8, 4)]    0           []                               \n",
      "                                                                                                  \n",
      " conv2d_27 (Conv2D)             (None, 6, 6, 16)     592         ['input_10[0][0]']               \n",
      "                                                                                                  \n",
      " conv2d_28 (Conv2D)             (None, 4, 4, 16)     2320        ['conv2d_27[0][0]']              \n",
      "                                                                                                  \n",
      " conv2d_29 (Conv2D)             (None, 1, 1, 16)     2320        ['conv2d_28[0][0]']              \n",
      "                                                                                                  \n",
      " flatten_9 (Flatten)            (None, 16)           0           ['conv2d_29[0][0]']              \n",
      "                                                                                                  \n",
      " dropout_9 (Dropout)            (None, 16)           0           ['flatten_9[0][0]']              \n",
      "                                                                                                  \n",
      " pi (Dense)                     (None, 256)          4352        ['dropout_9[0][0]']              \n",
      "                                                                                                  \n",
      " v (Dense)                      (None, 1)            17          ['dropout_9[0][0]']              \n",
      "                                                                                                  \n",
      "==================================================================================================\n",
      "Total params: 9,601\n",
      "Trainable params: 9,601\n",
      "Non-trainable params: 0\n",
      "__________________________________________________________________________________________________\n",
      "None\n"
     ]
    },
    {
     "ename": "KeyboardInterrupt",
     "evalue": "",
     "output_type": "error",
     "traceback": [
      "\u001b[0;31m---------------------------------------------------------------------------\u001b[0m",
      "\u001b[0;31mKeyboardInterrupt\u001b[0m                         Traceback (most recent call last)",
      "\u001b[0;32m/tmp/ipykernel_3937/644505228.py\u001b[0m in \u001b[0;36m<module>\u001b[0;34m\u001b[0m\n\u001b[1;32m      1\u001b[0m \u001b[0menv\u001b[0m \u001b[0;34m=\u001b[0m \u001b[0mcheckers_v3\u001b[0m\u001b[0;34m.\u001b[0m\u001b[0menv\u001b[0m\u001b[0;34m(\u001b[0m\u001b[0;34m)\u001b[0m\u001b[0;34m\u001b[0m\u001b[0;34m\u001b[0m\u001b[0m\n\u001b[0;32m----> 2\u001b[0;31m \u001b[0mnnet\u001b[0m \u001b[0;34m=\u001b[0m \u001b[0mpolicyIterSP\u001b[0m\u001b[0;34m(\u001b[0m\u001b[0menv\u001b[0m\u001b[0;34m)\u001b[0m\u001b[0;34m\u001b[0m\u001b[0;34m\u001b[0m\u001b[0m\n\u001b[0m",
      "\u001b[0;32m/tmp/ipykernel_3937/2067341437.py\u001b[0m in \u001b[0;36mpolicyIterSP\u001b[0;34m(env, num_iters, num_eps, frac_win_thresh)\u001b[0m\n\u001b[1;32m     36\u001b[0m     \u001b[0;31m# hard coded action space size\u001b[0m\u001b[0;34m\u001b[0m\u001b[0;34m\u001b[0m\u001b[0;34m\u001b[0m\u001b[0m\n\u001b[1;32m     37\u001b[0m     \u001b[0mnnet\u001b[0m \u001b[0;34m=\u001b[0m \u001b[0mNNet\u001b[0m\u001b[0;34m(\u001b[0m\u001b[0;36m256\u001b[0m\u001b[0;34m)\u001b[0m\u001b[0;34m\u001b[0m\u001b[0;34m\u001b[0m\u001b[0m\n\u001b[0;32m---> 38\u001b[0;31m     \u001b[0mfrac_win\u001b[0m \u001b[0;34m=\u001b[0m \u001b[0mpit\u001b[0m\u001b[0;34m(\u001b[0m\u001b[0mnnet\u001b[0m\u001b[0;34m,\u001b[0m \u001b[0mRandomPlayer\u001b[0m\u001b[0;34m(\u001b[0m\u001b[0;34m)\u001b[0m\u001b[0;34m)\u001b[0m                              \u001b[0;31m# compare new net with a random player\u001b[0m\u001b[0;34m\u001b[0m\u001b[0;34m\u001b[0m\u001b[0m\n\u001b[0m\u001b[1;32m     39\u001b[0m     \u001b[0mprint\u001b[0m\u001b[0;34m(\u001b[0m\u001b[0;34m\"frac_wins against a random player\"\u001b[0m\u001b[0;34m,\u001b[0m \u001b[0mfrac_win\u001b[0m\u001b[0;34m)\u001b[0m\u001b[0;34m\u001b[0m\u001b[0;34m\u001b[0m\u001b[0m\n\u001b[1;32m     40\u001b[0m     \u001b[0mexamples\u001b[0m \u001b[0;34m=\u001b[0m \u001b[0;34m[\u001b[0m\u001b[0;34m]\u001b[0m\u001b[0;34m\u001b[0m\u001b[0;34m\u001b[0m\u001b[0m\n",
      "\u001b[0;32m/tmp/ipykernel_3937/2067341437.py\u001b[0m in \u001b[0;36mpit\u001b[0;34m(new_nnet, nnet, games_played)\u001b[0m\n\u001b[1;32m     15\u001b[0m         \u001b[0;32mwhile\u001b[0m \u001b[0;32mnot\u001b[0m \u001b[0ms\u001b[0m\u001b[0;34m.\u001b[0m\u001b[0mgameEnded\u001b[0m\u001b[0;34m(\u001b[0m\u001b[0;34m)\u001b[0m\u001b[0;34m:\u001b[0m\u001b[0;34m\u001b[0m\u001b[0;34m\u001b[0m\u001b[0m\n\u001b[1;32m     16\u001b[0m             \u001b[0magent\u001b[0m \u001b[0;34m=\u001b[0m \u001b[0magents\u001b[0m\u001b[0;34m[\u001b[0m\u001b[0ms\u001b[0m\u001b[0;34m.\u001b[0m\u001b[0mcurrentAgent\u001b[0m\u001b[0;34m(\u001b[0m\u001b[0;34m)\u001b[0m\u001b[0;34m]\u001b[0m\u001b[0;34m\u001b[0m\u001b[0;34m\u001b[0m\u001b[0m\n\u001b[0;32m---> 17\u001b[0;31m             \u001b[0mp\u001b[0m\u001b[0;34m,\u001b[0m \u001b[0m_\u001b[0m \u001b[0;34m=\u001b[0m \u001b[0magent\u001b[0m\u001b[0;34m.\u001b[0m\u001b[0mpredict\u001b[0m\u001b[0;34m(\u001b[0m\u001b[0ms\u001b[0m\u001b[0;34m)\u001b[0m\u001b[0;34m\u001b[0m\u001b[0;34m\u001b[0m\u001b[0m\n\u001b[0m\u001b[1;32m     18\u001b[0m             \u001b[0maction\u001b[0m \u001b[0;34m=\u001b[0m \u001b[0mnp\u001b[0m\u001b[0;34m.\u001b[0m\u001b[0mrandom\u001b[0m\u001b[0;34m.\u001b[0m\u001b[0mchoice\u001b[0m\u001b[0;34m(\u001b[0m\u001b[0mlen\u001b[0m\u001b[0;34m(\u001b[0m\u001b[0mp\u001b[0m\u001b[0;34m)\u001b[0m\u001b[0;34m,\u001b[0m \u001b[0mp\u001b[0m\u001b[0;34m=\u001b[0m\u001b[0mp\u001b[0m\u001b[0;34m)\u001b[0m\u001b[0;34m\u001b[0m\u001b[0;34m\u001b[0m\u001b[0m\n\u001b[1;32m     19\u001b[0m             \u001b[0ms\u001b[0m\u001b[0;34m.\u001b[0m\u001b[0menv\u001b[0m\u001b[0;34m.\u001b[0m\u001b[0mstep\u001b[0m\u001b[0;34m(\u001b[0m\u001b[0maction\u001b[0m\u001b[0;34m)\u001b[0m\u001b[0;34m\u001b[0m\u001b[0;34m\u001b[0m\u001b[0m\n",
      "\u001b[0;32m/tmp/ipykernel_3937/1001160364.py\u001b[0m in \u001b[0;36mpredict\u001b[0;34m(self, state)\u001b[0m\n\u001b[1;32m     34\u001b[0m         \u001b[0mx\u001b[0m \u001b[0;34m=\u001b[0m \u001b[0mstate\u001b[0m\u001b[0;34m.\u001b[0m\u001b[0mgetObservation\u001b[0m\u001b[0;34m(\u001b[0m\u001b[0;34m)\u001b[0m\u001b[0;34m\u001b[0m\u001b[0;34m\u001b[0m\u001b[0m\n\u001b[1;32m     35\u001b[0m         \u001b[0mx\u001b[0m \u001b[0;34m=\u001b[0m \u001b[0mnp\u001b[0m\u001b[0;34m.\u001b[0m\u001b[0mexpand_dims\u001b[0m\u001b[0;34m(\u001b[0m\u001b[0mx\u001b[0m\u001b[0;34m,\u001b[0m\u001b[0;36m0\u001b[0m\u001b[0;34m)\u001b[0m\u001b[0;34m\u001b[0m\u001b[0;34m\u001b[0m\u001b[0m\n\u001b[0;32m---> 36\u001b[0;31m         \u001b[0mp\u001b[0m\u001b[0;34m,\u001b[0m \u001b[0mv\u001b[0m \u001b[0;34m=\u001b[0m \u001b[0mself\u001b[0m\u001b[0;34m.\u001b[0m\u001b[0mnnet\u001b[0m\u001b[0;34m.\u001b[0m\u001b[0mpredict\u001b[0m\u001b[0;34m(\u001b[0m\u001b[0mx\u001b[0m\u001b[0;34m,\u001b[0m \u001b[0mbatch_size\u001b[0m\u001b[0;34m=\u001b[0m\u001b[0;36m1\u001b[0m\u001b[0;34m)\u001b[0m\u001b[0;34m\u001b[0m\u001b[0;34m\u001b[0m\u001b[0m\n\u001b[0m\u001b[1;32m     37\u001b[0m \u001b[0;34m\u001b[0m\u001b[0m\n\u001b[1;32m     38\u001b[0m         \u001b[0mp\u001b[0m \u001b[0;34m=\u001b[0m \u001b[0mp\u001b[0m\u001b[0;34m[\u001b[0m\u001b[0;36m0\u001b[0m\u001b[0;34m]\u001b[0m\u001b[0;34m\u001b[0m\u001b[0;34m\u001b[0m\u001b[0m\n",
      "\u001b[0;32m~/projects/checkers-ai/.venv/lib/python3.8/site-packages/keras/utils/traceback_utils.py\u001b[0m in \u001b[0;36merror_handler\u001b[0;34m(*args, **kwargs)\u001b[0m\n\u001b[1;32m     62\u001b[0m     \u001b[0mfiltered_tb\u001b[0m \u001b[0;34m=\u001b[0m \u001b[0;32mNone\u001b[0m\u001b[0;34m\u001b[0m\u001b[0;34m\u001b[0m\u001b[0m\n\u001b[1;32m     63\u001b[0m     \u001b[0;32mtry\u001b[0m\u001b[0;34m:\u001b[0m\u001b[0;34m\u001b[0m\u001b[0;34m\u001b[0m\u001b[0m\n\u001b[0;32m---> 64\u001b[0;31m       \u001b[0;32mreturn\u001b[0m \u001b[0mfn\u001b[0m\u001b[0;34m(\u001b[0m\u001b[0;34m*\u001b[0m\u001b[0margs\u001b[0m\u001b[0;34m,\u001b[0m \u001b[0;34m**\u001b[0m\u001b[0mkwargs\u001b[0m\u001b[0;34m)\u001b[0m\u001b[0;34m\u001b[0m\u001b[0;34m\u001b[0m\u001b[0m\n\u001b[0m\u001b[1;32m     65\u001b[0m     \u001b[0;32mexcept\u001b[0m \u001b[0mException\u001b[0m \u001b[0;32mas\u001b[0m \u001b[0me\u001b[0m\u001b[0;34m:\u001b[0m  \u001b[0;31m# pylint: disable=broad-except\u001b[0m\u001b[0;34m\u001b[0m\u001b[0;34m\u001b[0m\u001b[0m\n\u001b[1;32m     66\u001b[0m       \u001b[0mfiltered_tb\u001b[0m \u001b[0;34m=\u001b[0m \u001b[0m_process_traceback_frames\u001b[0m\u001b[0;34m(\u001b[0m\u001b[0me\u001b[0m\u001b[0;34m.\u001b[0m\u001b[0m__traceback__\u001b[0m\u001b[0;34m)\u001b[0m\u001b[0;34m\u001b[0m\u001b[0;34m\u001b[0m\u001b[0m\n",
      "\u001b[0;32m~/projects/checkers-ai/.venv/lib/python3.8/site-packages/keras/engine/training.py\u001b[0m in \u001b[0;36mpredict\u001b[0;34m(self, x, batch_size, verbose, steps, callbacks, max_queue_size, workers, use_multiprocessing)\u001b[0m\n\u001b[1;32m   1783\u001b[0m       \u001b[0mcallbacks\u001b[0m\u001b[0;34m.\u001b[0m\u001b[0mon_predict_begin\u001b[0m\u001b[0;34m(\u001b[0m\u001b[0;34m)\u001b[0m\u001b[0;34m\u001b[0m\u001b[0;34m\u001b[0m\u001b[0m\n\u001b[1;32m   1784\u001b[0m       \u001b[0mbatch_outputs\u001b[0m \u001b[0;34m=\u001b[0m \u001b[0;32mNone\u001b[0m\u001b[0;34m\u001b[0m\u001b[0;34m\u001b[0m\u001b[0m\n\u001b[0;32m-> 1785\u001b[0;31m       \u001b[0;32mfor\u001b[0m \u001b[0m_\u001b[0m\u001b[0;34m,\u001b[0m \u001b[0miterator\u001b[0m \u001b[0;32min\u001b[0m \u001b[0mdata_handler\u001b[0m\u001b[0;34m.\u001b[0m\u001b[0menumerate_epochs\u001b[0m\u001b[0;34m(\u001b[0m\u001b[0;34m)\u001b[0m\u001b[0;34m:\u001b[0m  \u001b[0;31m# Single epoch.\u001b[0m\u001b[0;34m\u001b[0m\u001b[0;34m\u001b[0m\u001b[0m\n\u001b[0m\u001b[1;32m   1786\u001b[0m         \u001b[0;32mwith\u001b[0m \u001b[0mdata_handler\u001b[0m\u001b[0;34m.\u001b[0m\u001b[0mcatch_stop_iteration\u001b[0m\u001b[0;34m(\u001b[0m\u001b[0;34m)\u001b[0m\u001b[0;34m:\u001b[0m\u001b[0;34m\u001b[0m\u001b[0;34m\u001b[0m\u001b[0m\n\u001b[1;32m   1787\u001b[0m           \u001b[0;32mfor\u001b[0m \u001b[0mstep\u001b[0m \u001b[0;32min\u001b[0m \u001b[0mdata_handler\u001b[0m\u001b[0;34m.\u001b[0m\u001b[0msteps\u001b[0m\u001b[0;34m(\u001b[0m\u001b[0;34m)\u001b[0m\u001b[0;34m:\u001b[0m\u001b[0;34m\u001b[0m\u001b[0;34m\u001b[0m\u001b[0m\n",
      "\u001b[0;32m~/projects/checkers-ai/.venv/lib/python3.8/site-packages/keras/engine/data_adapter.py\u001b[0m in \u001b[0;36menumerate_epochs\u001b[0;34m(self)\u001b[0m\n\u001b[1;32m   1193\u001b[0m     \u001b[0;34m\"\"\"Yields `(epoch, tf.data.Iterator)`.\"\"\"\u001b[0m\u001b[0;34m\u001b[0m\u001b[0;34m\u001b[0m\u001b[0m\n\u001b[1;32m   1194\u001b[0m     \u001b[0;32mwith\u001b[0m \u001b[0mself\u001b[0m\u001b[0;34m.\u001b[0m\u001b[0m_truncate_execution_to_epoch\u001b[0m\u001b[0;34m(\u001b[0m\u001b[0;34m)\u001b[0m\u001b[0;34m:\u001b[0m\u001b[0;34m\u001b[0m\u001b[0;34m\u001b[0m\u001b[0m\n\u001b[0;32m-> 1195\u001b[0;31m       \u001b[0mdata_iterator\u001b[0m \u001b[0;34m=\u001b[0m \u001b[0miter\u001b[0m\u001b[0;34m(\u001b[0m\u001b[0mself\u001b[0m\u001b[0;34m.\u001b[0m\u001b[0m_dataset\u001b[0m\u001b[0;34m)\u001b[0m\u001b[0;34m\u001b[0m\u001b[0;34m\u001b[0m\u001b[0m\n\u001b[0m\u001b[1;32m   1196\u001b[0m       \u001b[0;32mfor\u001b[0m \u001b[0mepoch\u001b[0m \u001b[0;32min\u001b[0m \u001b[0mrange\u001b[0m\u001b[0;34m(\u001b[0m\u001b[0mself\u001b[0m\u001b[0;34m.\u001b[0m\u001b[0m_initial_epoch\u001b[0m\u001b[0;34m,\u001b[0m \u001b[0mself\u001b[0m\u001b[0;34m.\u001b[0m\u001b[0m_epochs\u001b[0m\u001b[0;34m)\u001b[0m\u001b[0;34m:\u001b[0m\u001b[0;34m\u001b[0m\u001b[0;34m\u001b[0m\u001b[0m\n\u001b[1;32m   1197\u001b[0m         \u001b[0;32mif\u001b[0m \u001b[0mself\u001b[0m\u001b[0;34m.\u001b[0m\u001b[0m_insufficient_data\u001b[0m\u001b[0;34m:\u001b[0m  \u001b[0;31m# Set by `catch_stop_iteration`.\u001b[0m\u001b[0;34m\u001b[0m\u001b[0;34m\u001b[0m\u001b[0m\n",
      "\u001b[0;32m~/projects/checkers-ai/.venv/lib/python3.8/site-packages/tensorflow/python/data/ops/dataset_ops.py\u001b[0m in \u001b[0;36m__iter__\u001b[0;34m(self)\u001b[0m\n\u001b[1;32m    488\u001b[0m     \u001b[0;32mif\u001b[0m \u001b[0mcontext\u001b[0m\u001b[0;34m.\u001b[0m\u001b[0mexecuting_eagerly\u001b[0m\u001b[0;34m(\u001b[0m\u001b[0;34m)\u001b[0m \u001b[0;32mor\u001b[0m \u001b[0mops\u001b[0m\u001b[0;34m.\u001b[0m\u001b[0minside_function\u001b[0m\u001b[0;34m(\u001b[0m\u001b[0;34m)\u001b[0m\u001b[0;34m:\u001b[0m\u001b[0;34m\u001b[0m\u001b[0;34m\u001b[0m\u001b[0m\n\u001b[1;32m    489\u001b[0m       \u001b[0;32mwith\u001b[0m \u001b[0mops\u001b[0m\u001b[0;34m.\u001b[0m\u001b[0mcolocate_with\u001b[0m\u001b[0;34m(\u001b[0m\u001b[0mself\u001b[0m\u001b[0;34m.\u001b[0m\u001b[0m_variant_tensor\u001b[0m\u001b[0;34m)\u001b[0m\u001b[0;34m:\u001b[0m\u001b[0;34m\u001b[0m\u001b[0;34m\u001b[0m\u001b[0m\n\u001b[0;32m--> 490\u001b[0;31m         \u001b[0;32mreturn\u001b[0m \u001b[0miterator_ops\u001b[0m\u001b[0;34m.\u001b[0m\u001b[0mOwnedIterator\u001b[0m\u001b[0;34m(\u001b[0m\u001b[0mself\u001b[0m\u001b[0;34m)\u001b[0m\u001b[0;34m\u001b[0m\u001b[0;34m\u001b[0m\u001b[0m\n\u001b[0m\u001b[1;32m    491\u001b[0m     \u001b[0;32melse\u001b[0m\u001b[0;34m:\u001b[0m\u001b[0;34m\u001b[0m\u001b[0;34m\u001b[0m\u001b[0m\n\u001b[1;32m    492\u001b[0m       raise RuntimeError(\"`tf.data.Dataset` only supports Python-style \"\n",
      "\u001b[0;32m~/projects/checkers-ai/.venv/lib/python3.8/site-packages/tensorflow/python/data/ops/iterator_ops.py\u001b[0m in \u001b[0;36m__init__\u001b[0;34m(self, dataset, components, element_spec)\u001b[0m\n\u001b[1;32m    724\u001b[0m             \u001b[0;34m\"When `dataset` is provided, `element_spec` and `components` must \"\u001b[0m\u001b[0;34m\u001b[0m\u001b[0;34m\u001b[0m\u001b[0m\n\u001b[1;32m    725\u001b[0m             \"not be specified.\")\n\u001b[0;32m--> 726\u001b[0;31m       \u001b[0mself\u001b[0m\u001b[0;34m.\u001b[0m\u001b[0m_create_iterator\u001b[0m\u001b[0;34m(\u001b[0m\u001b[0mdataset\u001b[0m\u001b[0;34m)\u001b[0m\u001b[0;34m\u001b[0m\u001b[0;34m\u001b[0m\u001b[0m\n\u001b[0m\u001b[1;32m    727\u001b[0m \u001b[0;34m\u001b[0m\u001b[0m\n\u001b[1;32m    728\u001b[0m     \u001b[0mself\u001b[0m\u001b[0;34m.\u001b[0m\u001b[0m_get_next_call_count\u001b[0m \u001b[0;34m=\u001b[0m \u001b[0;36m0\u001b[0m\u001b[0;34m\u001b[0m\u001b[0;34m\u001b[0m\u001b[0m\n",
      "\u001b[0;32m~/projects/checkers-ai/.venv/lib/python3.8/site-packages/tensorflow/python/data/ops/iterator_ops.py\u001b[0m in \u001b[0;36m_create_iterator\u001b[0;34m(self, dataset)\u001b[0m\n\u001b[1;32m    749\u001b[0m               \u001b[0moutput_types\u001b[0m\u001b[0;34m=\u001b[0m\u001b[0mself\u001b[0m\u001b[0;34m.\u001b[0m\u001b[0m_flat_output_types\u001b[0m\u001b[0;34m,\u001b[0m\u001b[0;34m\u001b[0m\u001b[0;34m\u001b[0m\u001b[0m\n\u001b[1;32m    750\u001b[0m               output_shapes=self._flat_output_shapes))\n\u001b[0;32m--> 751\u001b[0;31m       \u001b[0mgen_dataset_ops\u001b[0m\u001b[0;34m.\u001b[0m\u001b[0mmake_iterator\u001b[0m\u001b[0;34m(\u001b[0m\u001b[0mds_variant\u001b[0m\u001b[0;34m,\u001b[0m \u001b[0mself\u001b[0m\u001b[0;34m.\u001b[0m\u001b[0m_iterator_resource\u001b[0m\u001b[0;34m)\u001b[0m\u001b[0;34m\u001b[0m\u001b[0;34m\u001b[0m\u001b[0m\n\u001b[0m\u001b[1;32m    752\u001b[0m       \u001b[0;31m# Delete the resource when this object is deleted\u001b[0m\u001b[0;34m\u001b[0m\u001b[0;34m\u001b[0m\u001b[0;34m\u001b[0m\u001b[0m\n\u001b[1;32m    753\u001b[0m       self._resource_deleter = IteratorResourceDeleter(\n",
      "\u001b[0;32m~/projects/checkers-ai/.venv/lib/python3.8/site-packages/tensorflow/python/ops/gen_dataset_ops.py\u001b[0m in \u001b[0;36mmake_iterator\u001b[0;34m(dataset, iterator, name)\u001b[0m\n\u001b[1;32m   3235\u001b[0m   \u001b[0;32mif\u001b[0m \u001b[0mtld\u001b[0m\u001b[0;34m.\u001b[0m\u001b[0mis_eager\u001b[0m\u001b[0;34m:\u001b[0m\u001b[0;34m\u001b[0m\u001b[0;34m\u001b[0m\u001b[0m\n\u001b[1;32m   3236\u001b[0m     \u001b[0;32mtry\u001b[0m\u001b[0;34m:\u001b[0m\u001b[0;34m\u001b[0m\u001b[0;34m\u001b[0m\u001b[0m\n\u001b[0;32m-> 3237\u001b[0;31m       _result = pywrap_tfe.TFE_Py_FastPathExecute(\n\u001b[0m\u001b[1;32m   3238\u001b[0m         _ctx, \"MakeIterator\", name, dataset, iterator)\n\u001b[1;32m   3239\u001b[0m       \u001b[0;32mreturn\u001b[0m \u001b[0m_result\u001b[0m\u001b[0;34m\u001b[0m\u001b[0;34m\u001b[0m\u001b[0m\n",
      "\u001b[0;31mKeyboardInterrupt\u001b[0m: "
     ]
    }
   ],
   "source": [
    "env = checkers_v3.env()\n",
    "nnet = policyIterSP(env)"
   ]
  },
  {
   "cell_type": "code",
   "execution_count": null,
   "id": "31dba3eb",
   "metadata": {},
   "outputs": [],
   "source": []
  }
 ],
 "metadata": {
  "kernelspec": {
   "display_name": "checkers",
   "language": "python",
   "name": "checkers"
  },
  "language_info": {
   "codemirror_mode": {
    "name": "ipython",
    "version": 3
   },
   "file_extension": ".py",
   "mimetype": "text/x-python",
   "name": "python",
   "nbconvert_exporter": "python",
   "pygments_lexer": "ipython3",
   "version": "3.8.10"
  }
 },
 "nbformat": 4,
 "nbformat_minor": 5
}
